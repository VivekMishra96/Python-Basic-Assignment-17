{
 "cells": [
  {
   "cell_type": "code",
   "execution_count": null,
   "id": "20b591ba",
   "metadata": {},
   "outputs": [],
   "source": [
    "1. Assign the value 7 to the variable guess_me. Then, write the conditional tests (if, else, and elif) to print the string 'too low' if guess_me is less than 7, 'too high' if greater than 7, and 'just right' if equal to 7.\n",
    "guess_me = 7"
   ]
  },
  {
   "cell_type": "code",
   "execution_count": 1,
   "id": "091fe8f5",
   "metadata": {},
   "outputs": [
    {
     "name": "stdout",
     "output_type": "stream",
     "text": [
      "just right\n"
     ]
    }
   ],
   "source": [
    "#Ans.\n",
    "guess_me = 7\n",
    "if guess_me < 7:\n",
    "    print('too low')\n",
    "elif guess_me > 7:\n",
    "    print('too high')\n",
    "else:\n",
    "    print('just right')"
   ]
  },
  {
   "cell_type": "code",
   "execution_count": null,
   "id": "3dd32e74",
   "metadata": {},
   "outputs": [],
   "source": [
    "2. variable guess_me and the value 1 to the variable start. Write a while loop that compares start with guess_me. Print too low if start is less than guess me. If start equals guess_me, print 'found it!' and exit the loop. If start is greater than guess_me, print 'oops' and exit the loop. Increment start at the end of the loop."
   ]
  },
  {
   "cell_type": "code",
   "execution_count": 1,
   "id": "78895a5d",
   "metadata": {},
   "outputs": [
    {
     "name": "stdout",
     "output_type": "stream",
     "text": [
      "too long\n",
      "too long\n",
      "too long\n",
      "too long\n",
      "too long\n",
      "too long\n",
      "found it!\n"
     ]
    }
   ],
   "source": [
    "#Ans.\n",
    "guess_me=7\n",
    "start=1\n",
    "while True:\n",
    "    if start<guess_me:\n",
    "        print('too long')\n",
    "    elif start==guess_me:\n",
    "        print('found it!')\n",
    "        break\n",
    "    elif star>guess_me:\n",
    "        print('oops')\n",
    "        break\n",
    "    start+=1\n",
    "            "
   ]
  },
  {
   "cell_type": "code",
   "execution_count": null,
   "id": "15827d15",
   "metadata": {},
   "outputs": [],
   "source": [
    "3.Print the following values of the list [3, 2, 1, 0] using a for loop."
   ]
  },
  {
   "cell_type": "code",
   "execution_count": 2,
   "id": "6c10705c",
   "metadata": {},
   "outputs": [
    {
     "name": "stdout",
     "output_type": "stream",
     "text": [
      "3\n",
      "2\n",
      "1\n",
      "0\n"
     ]
    }
   ],
   "source": [
    "#Ans.\n",
    "list=[3,2,1,0]\n",
    "for i in list:\n",
    "    print(i)"
   ]
  },
  {
   "cell_type": "code",
   "execution_count": null,
   "id": "56f2d19c",
   "metadata": {},
   "outputs": [],
   "source": [
    "4. Use a list comprehension to make a list of the even numbers in range(10)"
   ]
  },
  {
   "cell_type": "code",
   "execution_count": 3,
   "id": "c7a14b14",
   "metadata": {},
   "outputs": [],
   "source": [
    "#Ans\n",
    "even = [number for number in range(10) if number % 2 == 0]"
   ]
  },
  {
   "cell_type": "code",
   "execution_count": 4,
   "id": "23433be8",
   "metadata": {},
   "outputs": [
    {
     "data": {
      "text/plain": [
       "[0, 2, 4, 6, 8]"
      ]
     },
     "execution_count": 4,
     "metadata": {},
     "output_type": "execute_result"
    }
   ],
   "source": [
    "even"
   ]
  },
  {
   "cell_type": "code",
   "execution_count": null,
   "id": "ff551c3f",
   "metadata": {},
   "outputs": [],
   "source": [
    "5.Use a dictionary comprehension to create the dictionary squares. Use range(10) to return the keys, and use the square of each key as its value."
   ]
  },
  {
   "cell_type": "code",
   "execution_count": 5,
   "id": "c33fb47a",
   "metadata": {},
   "outputs": [],
   "source": [
    "#Ans.\n",
    "squares = {key: key*key for key in range(10)}"
   ]
  },
  {
   "cell_type": "code",
   "execution_count": 6,
   "id": "3fbeacd6",
   "metadata": {},
   "outputs": [
    {
     "data": {
      "text/plain": [
       "{0: 0, 1: 1, 2: 4, 3: 9, 4: 16, 5: 25, 6: 36, 7: 49, 8: 64, 9: 81}"
      ]
     },
     "execution_count": 6,
     "metadata": {},
     "output_type": "execute_result"
    }
   ],
   "source": [
    "squares"
   ]
  },
  {
   "cell_type": "code",
   "execution_count": null,
   "id": "1a2ffb33",
   "metadata": {},
   "outputs": [],
   "source": [
    "6. Construct the set odd from the odd numbers in the range using a set comprehension (10)."
   ]
  },
  {
   "cell_type": "code",
   "execution_count": 7,
   "id": "82714f7b",
   "metadata": {},
   "outputs": [],
   "source": [
    "#Ans.\n",
    "odd = {number for number in range(10) if number % 2 == 1}"
   ]
  },
  {
   "cell_type": "code",
   "execution_count": 8,
   "id": "e60c68af",
   "metadata": {},
   "outputs": [
    {
     "data": {
      "text/plain": [
       "{1, 3, 5, 7, 9}"
      ]
     },
     "execution_count": 8,
     "metadata": {},
     "output_type": "execute_result"
    }
   ],
   "source": [
    "odd"
   ]
  },
  {
   "cell_type": "code",
   "execution_count": 9,
   "id": "81350427",
   "metadata": {},
   "outputs": [
    {
     "data": {
      "text/plain": [
       "{1, 3, 5, 7, 9}"
      ]
     },
     "execution_count": 9,
     "metadata": {},
     "output_type": "execute_result"
    }
   ],
   "source": [
    "odd"
   ]
  },
  {
   "cell_type": "code",
   "execution_count": null,
   "id": "31e6fd4e",
   "metadata": {},
   "outputs": [],
   "source": [
    "7.Use a generator comprehension to return the string 'Got ' and a number for the numbers in range(10). Iterate through this by using a for loop."
   ]
  },
  {
   "cell_type": "code",
   "execution_count": 10,
   "id": "bcd01755",
   "metadata": {},
   "outputs": [
    {
     "name": "stdout",
     "output_type": "stream",
     "text": [
      "Got 0\n",
      "Got 1\n",
      "Got 2\n",
      "Got 3\n",
      "Got 4\n",
      "Got 5\n",
      "Got 6\n",
      "Got 7\n",
      "Got 8\n",
      "Got 9\n"
     ]
    }
   ],
   "source": [
    "#ans.\n",
    "for thing in ('Got %s' % number for number in range(10)):\n",
    "        print(thing)"
   ]
  },
  {
   "cell_type": "code",
   "execution_count": null,
   "id": "b144864e",
   "metadata": {},
   "outputs": [],
   "source": [
    "8.Define a function called good that returns the list ['Harry', 'Ron', 'Hermione']."
   ]
  },
  {
   "cell_type": "code",
   "execution_count": 11,
   "id": "ed96b0fa",
   "metadata": {},
   "outputs": [],
   "source": [
    "#ans\n",
    "def good():\n",
    "        return ['Harry', 'Ron', 'Hermione']"
   ]
  },
  {
   "cell_type": "code",
   "execution_count": 12,
   "id": "b02708a8",
   "metadata": {},
   "outputs": [
    {
     "data": {
      "text/plain": [
       "['Harry', 'Ron', 'Hermione']"
      ]
     },
     "execution_count": 12,
     "metadata": {},
     "output_type": "execute_result"
    }
   ],
   "source": [
    "good()"
   ]
  },
  {
   "cell_type": "code",
   "execution_count": null,
   "id": "aea8de49",
   "metadata": {},
   "outputs": [],
   "source": [
    "9.Define a generator function called get_odds that returns the odd numbers from range(10). Use a for loop to find and print the third value returned"
   ]
  },
  {
   "cell_type": "code",
   "execution_count": 13,
   "id": "1a54af76",
   "metadata": {},
   "outputs": [
    {
     "name": "stdout",
     "output_type": "stream",
     "text": [
      "The third odd number is 5\n"
     ]
    }
   ],
   "source": [
    "#ans.\n",
    "def get_odds():\n",
    "        for number in range(1, 10, 2):\n",
    "            yield number\n",
    "count = 1\n",
    "for number in get_odds():\n",
    "    if count == 3:\n",
    "        print(\"The third odd number is\", number)\n",
    "        break\n",
    "    count += 1"
   ]
  },
  {
   "cell_type": "code",
   "execution_count": null,
   "id": "49468c16",
   "metadata": {},
   "outputs": [],
   "source": [
    " 10.Define an exception called OopsException. Raise this exception to see what happens. Then write the code to catch this exception and print 'Caught an oops'."
   ]
  },
  {
   "cell_type": "code",
   "execution_count": 14,
   "id": "61360aa9",
   "metadata": {},
   "outputs": [],
   "source": [
    "#Ans.\n",
    "class OopsException(Exception):\n",
    "        pass\n"
   ]
  },
  {
   "cell_type": "code",
   "execution_count": 15,
   "id": "d738a1de",
   "metadata": {},
   "outputs": [
    {
     "ename": "OopsException",
     "evalue": "",
     "output_type": "error",
     "traceback": [
      "\u001b[1;31m---------------------------------------------------------------------------\u001b[0m",
      "\u001b[1;31mOopsException\u001b[0m                             Traceback (most recent call last)",
      "\u001b[1;32m~\\AppData\\Local\\Temp/ipykernel_15436/2009335150.py\u001b[0m in \u001b[0;36m<module>\u001b[1;34m\u001b[0m\n\u001b[1;32m----> 1\u001b[1;33m \u001b[1;32mraise\u001b[0m \u001b[0mOopsException\u001b[0m\u001b[1;33m(\u001b[0m\u001b[1;33m)\u001b[0m\u001b[1;33m\u001b[0m\u001b[1;33m\u001b[0m\u001b[0m\n\u001b[0m",
      "\u001b[1;31mOopsException\u001b[0m: "
     ]
    }
   ],
   "source": [
    "raise OopsException()"
   ]
  },
  {
   "cell_type": "code",
   "execution_count": 16,
   "id": "80332418",
   "metadata": {},
   "outputs": [
    {
     "name": "stdout",
     "output_type": "stream",
     "text": [
      "Caught an oops\n"
     ]
    }
   ],
   "source": [
    "try:\n",
    "    raise OopsException\n",
    "except OopsException:\n",
    "    print('Caught an oops')\n",
    "   "
   ]
  },
  {
   "cell_type": "code",
   "execution_count": null,
   "id": "5f4ac88b",
   "metadata": {},
   "outputs": [],
   "source": [
    "11. Use zip() to make a dictionary called movies that pairs these lists: titles = ['Creature of Habit', 'Crewel Fate'] and plots = ['A nun turns into a monster', 'A haunted yarn shop']."
   ]
  },
  {
   "cell_type": "code",
   "execution_count": 17,
   "id": "efa130a8",
   "metadata": {},
   "outputs": [],
   "source": [
    "#Ans.\n",
    "titles = ['Creature of Habit', 'Crewel Fate']"
   ]
  },
  {
   "cell_type": "code",
   "execution_count": 18,
   "id": "e78e8c46",
   "metadata": {},
   "outputs": [],
   "source": [
    "plots=['A nun turnsinto a monster','A huanted yarn shop']"
   ]
  },
  {
   "cell_type": "code",
   "execution_count": 19,
   "id": "b4601304",
   "metadata": {},
   "outputs": [],
   "source": [
    "movies = dict(zip(titles, plots))"
   ]
  },
  {
   "cell_type": "code",
   "execution_count": 20,
   "id": "2fabe799",
   "metadata": {},
   "outputs": [
    {
     "data": {
      "text/plain": [
       "{'Creature of Habit': 'A nun turnsinto a monster',\n",
       " 'Crewel Fate': 'A huanted yarn shop'}"
      ]
     },
     "execution_count": 20,
     "metadata": {},
     "output_type": "execute_result"
    }
   ],
   "source": [
    "movies"
   ]
  }
 ],
 "metadata": {
  "kernelspec": {
   "display_name": "Python 3 (ipykernel)",
   "language": "python",
   "name": "python3"
  },
  "language_info": {
   "codemirror_mode": {
    "name": "ipython",
    "version": 3
   },
   "file_extension": ".py",
   "mimetype": "text/x-python",
   "name": "python",
   "nbconvert_exporter": "python",
   "pygments_lexer": "ipython3",
   "version": "3.9.7"
  }
 },
 "nbformat": 4,
 "nbformat_minor": 5
}
